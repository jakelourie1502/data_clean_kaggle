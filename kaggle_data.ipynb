{
 "metadata": {
  "language_info": {
   "codemirror_mode": {
    "name": "ipython",
    "version": 3
   },
   "file_extension": ".py",
   "mimetype": "text/x-python",
   "name": "python",
   "nbconvert_exporter": "python",
   "pygments_lexer": "ipython3",
   "version": "3.8.5"
  },
  "orig_nbformat": 2,
  "kernelspec": {
   "name": "python385jvsc74a57bd03140f74d8e1d28421ccd34109d4bdb636d1200d25e7dadfa8785402db4096f74",
   "display_name": "Python 3.8.5 64-bit ('base': conda)"
  }
 },
 "nbformat": 4,
 "nbformat_minor": 2,
 "cells": [
  {
   "cell_type": "code",
   "execution_count": 2,
   "metadata": {},
   "outputs": [],
   "source": [
    "import pandas as pd"
   ]
  },
  {
   "cell_type": "code",
   "execution_count": 7,
   "metadata": {},
   "outputs": [],
   "source": [
    "file = \"/Users/jacoblourie/Downloads/flights.txt\""
   ]
  },
  {
   "cell_type": "code",
   "execution_count": 10,
   "metadata": {},
   "outputs": [],
   "source": [
    "df = pd.read_csv(file, sep='|')"
   ]
  },
  {
   "cell_type": "code",
   "execution_count": 12,
   "metadata": {},
   "outputs": [
    {
     "output_type": "stream",
     "name": "stdout",
     "text": [
      "<class 'pandas.core.frame.DataFrame'>\nRangeIndex: 1191805 entries, 0 to 1191804\nData columns (total 31 columns):\n #   Column             Non-Null Count    Dtype  \n---  ------             --------------    -----  \n 0   TRANSACTIONID      1191805 non-null  int64  \n 1   FLIGHTDATE         1191805 non-null  int64  \n 2   AIRLINECODE        1191805 non-null  object \n 3   AIRLINENAME        1191805 non-null  object \n 4   TAILNUM            1034988 non-null  object \n 5   FLIGHTNUM          1191805 non-null  int64  \n 6   ORIGINAIRPORTCODE  1191805 non-null  object \n 7   ORIGAIRPORTNAME    1191805 non-null  object \n 8   ORIGINCITYNAME     1191805 non-null  object \n 9   ORIGINSTATE        1180963 non-null  object \n 10  ORIGINSTATENAME    1180963 non-null  object \n 11  DESTAIRPORTCODE    1191805 non-null  object \n 12  DESTAIRPORTNAME    1191805 non-null  object \n 13  DESTCITYNAME       1191805 non-null  object \n 14  DESTSTATE          1180967 non-null  object \n 15  DESTSTATENAME      1180967 non-null  object \n 16  CRSDEPTIME         1191805 non-null  int64  \n 17  DEPTIME            1163470 non-null  float64\n 18  DEPDELAY           1163470 non-null  float64\n 19  TAXIOUT            1011833 non-null  float64\n 20  WHEELSOFF          1011791 non-null  float64\n 21  WHEELSON           1010225 non-null  float64\n 22  TAXIIN             1010320 non-null  float64\n 23  CRSARRTIME         1191805 non-null  int64  \n 24  ARRTIME            1161439 non-null  float64\n 25  ARRDELAY           1160545 non-null  float64\n 26  CRSELAPSEDTIME     1191383 non-null  float64\n 27  ACTUALELAPSEDTIME  1160545 non-null  float64\n 28  CANCELLED          1191805 non-null  object \n 29  DIVERTED           1191805 non-null  object \n 30  DISTANCE           1191805 non-null  object \ndtypes: float64(10), int64(5), object(16)\nmemory usage: 281.9+ MB\n"
     ]
    }
   ],
   "source": [
    "df.info()"
   ]
  },
  {
   "cell_type": "code",
   "execution_count": null,
   "metadata": {},
   "outputs": [],
   "source": []
  }
 ]
}