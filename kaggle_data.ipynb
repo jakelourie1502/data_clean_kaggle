{
 "metadata": {
  "language_info": {
   "codemirror_mode": {
    "name": "ipython",
    "version": 3
   },
   "file_extension": ".py",
   "mimetype": "text/x-python",
   "name": "python",
   "nbconvert_exporter": "python",
   "pygments_lexer": "ipython3",
   "version": "3.8.5"
  },
  "orig_nbformat": 2,
  "kernelspec": {
   "name": "python385jvsc74a57bd03140f74d8e1d28421ccd34109d4bdb636d1200d25e7dadfa8785402db4096f74",
   "display_name": "Python 3.8.5 64-bit ('base': conda)"
  }
 },
 "nbformat": 4,
 "nbformat_minor": 2,
 "cells": [
  {
   "cell_type": "code",
   "execution_count": 2,
   "metadata": {},
   "outputs": [],
   "source": [
    "import pandas as pd"
   ]
  },
  {
   "cell_type": "code",
   "execution_count": 7,
   "metadata": {},
   "outputs": [],
   "source": [
    "file = \"/Users/jacoblourie/Downloads/flights.txt\""
   ]
  },
  {
   "cell_type": "code",
   "execution_count": 10,
   "metadata": {},
   "outputs": [],
   "source": [
    "df = pd.read_csv(file, sep='|')"
   ]
  },
  {
   "cell_type": "code",
   "execution_count": 12,
   "metadata": {},
   "outputs": [
    {
     "output_type": "stream",
     "name": "stdout",
     "text": [
      "<class 'pandas.core.frame.DataFrame'>\nRangeIndex: 1191805 entries, 0 to 1191804\nData columns (total 31 columns):\n #   Column             Non-Null Count    Dtype  \n---  ------             --------------    -----  \n 0   TRANSACTIONID      1191805 non-null  int64  \n 1   FLIGHTDATE         1191805 non-null  int64  \n 2   AIRLINECODE        1191805 non-null  object \n 3   AIRLINENAME        1191805 non-null  object \n 4   TAILNUM            1034988 non-null  object \n 5   FLIGHTNUM          1191805 non-null  int64  \n 6   ORIGINAIRPORTCODE  1191805 non-null  object \n 7   ORIGAIRPORTNAME    1191805 non-null  object \n 8   ORIGINCITYNAME     1191805 non-null  object \n 9   ORIGINSTATE        1180963 non-null  object \n 10  ORIGINSTATENAME    1180963 non-null  object \n 11  DESTAIRPORTCODE    1191805 non-null  object \n 12  DESTAIRPORTNAME    1191805 non-null  object \n 13  DESTCITYNAME       1191805 non-null  object \n 14  DESTSTATE          1180967 non-null  object \n 15  DESTSTATENAME      1180967 non-null  object \n 16  CRSDEPTIME         1191805 non-null  int64  \n 17  DEPTIME            1163470 non-null  float64\n 18  DEPDELAY           1163470 non-null  float64\n 19  TAXIOUT            1011833 non-null  float64\n 20  WHEELSOFF          1011791 non-null  float64\n 21  WHEELSON           1010225 non-null  float64\n 22  TAXIIN             1010320 non-null  float64\n 23  CRSARRTIME         1191805 non-null  int64  \n 24  ARRTIME            1161439 non-null  float64\n 25  ARRDELAY           1160545 non-null  float64\n 26  CRSELAPSEDTIME     1191383 non-null  float64\n 27  ACTUALELAPSEDTIME  1160545 non-null  float64\n 28  CANCELLED          1191805 non-null  object \n 29  DIVERTED           1191805 non-null  object \n 30  DISTANCE           1191805 non-null  object \ndtypes: float64(10), int64(5), object(16)\nmemory usage: 281.9+ MB\n"
     ]
    }
   ],
   "source": [
    "df.info()"
   ]
  },
  {
   "source": [
    "## Alright, let's get down to it\n",
    "\n",
    "What's wrong with the diverted column"
   ],
   "cell_type": "markdown",
   "metadata": {}
  },
  {
   "cell_type": "code",
   "execution_count": 13,
   "metadata": {},
   "outputs": [],
   "source": [
    "#it doesn't exist!"
   ]
  },
  {
   "cell_type": "code",
   "execution_count": 21,
   "metadata": {},
   "outputs": [],
   "source": [
    "df['DIVERTED_CLEANED'] = df['DIVERTED'].apply(lambda x: True if x in ('T','True',1) else False)"
   ]
  },
  {
   "cell_type": "code",
   "execution_count": 22,
   "metadata": {},
   "outputs": [
    {
     "output_type": "execute_result",
     "data": {
      "text/plain": [
       "False    1189958\n",
       "True        1847\n",
       "Name: DIVERTED_CLEANED, dtype: int64"
      ]
     },
     "metadata": {},
     "execution_count": 22
    }
   ],
   "source": [
    "df['DIVERTED_CLEANED'].value_counts()"
   ]
  },
  {
   "source": [
    "Alright good stuff we've cleaned the diverted column! \n",
    "\n",
    "## Question 4 - what's wrong with the distance column. fix it! "
   ],
   "cell_type": "markdown",
   "metadata": {}
  },
  {
   "cell_type": "code",
   "execution_count": 23,
   "metadata": {},
   "outputs": [
    {
     "output_type": "execute_result",
     "data": {
      "text/plain": [
       "337 miles     10113\n",
       "370 miles      6851\n",
       "236 miles      5726\n",
       "328 miles      5721\n",
       "224 miles      5509\n",
       "              ...  \n",
       "1997 miles        1\n",
       "2045 miles        1\n",
       "18 miles          1\n",
       "2874 miles        1\n",
       "1800 miles        1\n",
       "Name: DISTANCE, Length: 1706, dtype: int64"
      ]
     },
     "metadata": {},
     "execution_count": 23
    }
   ],
   "source": [
    "df['DISTANCE'].value_counts()"
   ]
  },
  {
   "cell_type": "code",
   "execution_count": 35,
   "metadata": {},
   "outputs": [],
   "source": [
    "df['DISTANCE_CLEANED'] = df['DISTANCE'].apply(lambda x: x.split()[0])"
   ]
  },
  {
   "cell_type": "code",
   "execution_count": 40,
   "metadata": {},
   "outputs": [
    {
     "output_type": "execute_result",
     "data": {
      "text/plain": [
       "   TRANSACTIONID  FLIGHTDATE AIRLINECODE                     AIRLINENAME  \\\n",
       "0       54548800    20020101          WN      Southwest Airlines Co.: WN   \n",
       "1       55872300    20020101          CO  Continental Air Lines Inc.: CO   \n",
       "\n",
       "  TAILNUM  FLIGHTNUM ORIGINAIRPORTCODE  \\\n",
       "0  N103@@       1425               ABQ   \n",
       "1  N83872        150               ABQ   \n",
       "\n",
       "                                    ORIGAIRPORTNAME ORIGINCITYNAME  \\\n",
       "0  AlbuquerqueNM: Albuquerque International Sunport    Albuquerque   \n",
       "1  AlbuquerqueNM: Albuquerque International Sunport    Albuquerque   \n",
       "\n",
       "  ORIGINSTATE  ... CRSARRTIME ARRTIME ARRDELAY CRSELAPSEDTIME  \\\n",
       "0          NM  ...       1655  1652.0     -3.0           90.0   \n",
       "1          NM  ...       1426  1435.0      9.0          116.0   \n",
       "\n",
       "  ACTUALELAPSEDTIME CANCELLED  DIVERTED   DISTANCE  DIVERTED_CLEANED  \\\n",
       "0              87.0         F     False  580 miles             False   \n",
       "1             119.0     False         F  744 miles             False   \n",
       "\n",
       "   DISTANCE_CLEANED  \n",
       "0               580  \n",
       "1               744  \n",
       "\n",
       "[2 rows x 33 columns]"
      ],
      "text/html": "<div>\n<style scoped>\n    .dataframe tbody tr th:only-of-type {\n        vertical-align: middle;\n    }\n\n    .dataframe tbody tr th {\n        vertical-align: top;\n    }\n\n    .dataframe thead th {\n        text-align: right;\n    }\n</style>\n<table border=\"1\" class=\"dataframe\">\n  <thead>\n    <tr style=\"text-align: right;\">\n      <th></th>\n      <th>TRANSACTIONID</th>\n      <th>FLIGHTDATE</th>\n      <th>AIRLINECODE</th>\n      <th>AIRLINENAME</th>\n      <th>TAILNUM</th>\n      <th>FLIGHTNUM</th>\n      <th>ORIGINAIRPORTCODE</th>\n      <th>ORIGAIRPORTNAME</th>\n      <th>ORIGINCITYNAME</th>\n      <th>ORIGINSTATE</th>\n      <th>...</th>\n      <th>CRSARRTIME</th>\n      <th>ARRTIME</th>\n      <th>ARRDELAY</th>\n      <th>CRSELAPSEDTIME</th>\n      <th>ACTUALELAPSEDTIME</th>\n      <th>CANCELLED</th>\n      <th>DIVERTED</th>\n      <th>DISTANCE</th>\n      <th>DIVERTED_CLEANED</th>\n      <th>DISTANCE_CLEANED</th>\n    </tr>\n  </thead>\n  <tbody>\n    <tr>\n      <th>0</th>\n      <td>54548800</td>\n      <td>20020101</td>\n      <td>WN</td>\n      <td>Southwest Airlines Co.: WN</td>\n      <td>N103@@</td>\n      <td>1425</td>\n      <td>ABQ</td>\n      <td>AlbuquerqueNM: Albuquerque International Sunport</td>\n      <td>Albuquerque</td>\n      <td>NM</td>\n      <td>...</td>\n      <td>1655</td>\n      <td>1652.0</td>\n      <td>-3.0</td>\n      <td>90.0</td>\n      <td>87.0</td>\n      <td>F</td>\n      <td>False</td>\n      <td>580 miles</td>\n      <td>False</td>\n      <td>580</td>\n    </tr>\n    <tr>\n      <th>1</th>\n      <td>55872300</td>\n      <td>20020101</td>\n      <td>CO</td>\n      <td>Continental Air Lines Inc.: CO</td>\n      <td>N83872</td>\n      <td>150</td>\n      <td>ABQ</td>\n      <td>AlbuquerqueNM: Albuquerque International Sunport</td>\n      <td>Albuquerque</td>\n      <td>NM</td>\n      <td>...</td>\n      <td>1426</td>\n      <td>1435.0</td>\n      <td>9.0</td>\n      <td>116.0</td>\n      <td>119.0</td>\n      <td>False</td>\n      <td>F</td>\n      <td>744 miles</td>\n      <td>False</td>\n      <td>744</td>\n    </tr>\n  </tbody>\n</table>\n<p>2 rows × 33 columns</p>\n</div>"
     },
     "metadata": {},
     "execution_count": 40
    }
   ],
   "source": [
    "df.head(2)"
   ]
  },
  {
   "cell_type": "code",
   "execution_count": null,
   "metadata": {},
   "outputs": [],
   "source": []
  }
 ]
}