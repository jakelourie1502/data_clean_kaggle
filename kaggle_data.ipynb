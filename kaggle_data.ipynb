{
 "metadata": {
  "language_info": {
   "codemirror_mode": {
    "name": "ipython",
    "version": 3
   },
   "file_extension": ".py",
   "mimetype": "text/x-python",
   "name": "python",
   "nbconvert_exporter": "python",
   "pygments_lexer": "ipython3",
   "version": "3.8.5"
  },
  "orig_nbformat": 2,
  "kernelspec": {
   "name": "python385jvsc74a57bd03140f74d8e1d28421ccd34109d4bdb636d1200d25e7dadfa8785402db4096f74",
   "display_name": "Python 3.8.5 64-bit ('base': conda)"
  }
 },
 "nbformat": 4,
 "nbformat_minor": 2,
 "cells": [
  {
   "cell_type": "code",
   "execution_count": 2,
   "metadata": {},
   "outputs": [],
   "source": [
    "import pandas as pd"
   ]
  },
  {
   "cell_type": "code",
   "execution_count": 7,
   "metadata": {},
   "outputs": [],
   "source": [
    "file = \"/Users/jacoblourie/Downloads/flights.txt\""
   ]
  },
  {
   "cell_type": "code",
   "execution_count": 10,
   "metadata": {},
   "outputs": [],
   "source": [
    "df = pd.read_csv(file, sep='|')"
   ]
  },
  {
   "cell_type": "code",
   "execution_count": 12,
   "metadata": {},
   "outputs": [
    {
     "output_type": "stream",
     "name": "stdout",
     "text": [
      "<class 'pandas.core.frame.DataFrame'>\nRangeIndex: 1191805 entries, 0 to 1191804\nData columns (total 31 columns):\n #   Column             Non-Null Count    Dtype  \n---  ------             --------------    -----  \n 0   TRANSACTIONID      1191805 non-null  int64  \n 1   FLIGHTDATE         1191805 non-null  int64  \n 2   AIRLINECODE        1191805 non-null  object \n 3   AIRLINENAME        1191805 non-null  object \n 4   TAILNUM            1034988 non-null  object \n 5   FLIGHTNUM          1191805 non-null  int64  \n 6   ORIGINAIRPORTCODE  1191805 non-null  object \n 7   ORIGAIRPORTNAME    1191805 non-null  object \n 8   ORIGINCITYNAME     1191805 non-null  object \n 9   ORIGINSTATE        1180963 non-null  object \n 10  ORIGINSTATENAME    1180963 non-null  object \n 11  DESTAIRPORTCODE    1191805 non-null  object \n 12  DESTAIRPORTNAME    1191805 non-null  object \n 13  DESTCITYNAME       1191805 non-null  object \n 14  DESTSTATE          1180967 non-null  object \n 15  DESTSTATENAME      1180967 non-null  object \n 16  CRSDEPTIME         1191805 non-null  int64  \n 17  DEPTIME            1163470 non-null  float64\n 18  DEPDELAY           1163470 non-null  float64\n 19  TAXIOUT            1011833 non-null  float64\n 20  WHEELSOFF          1011791 non-null  float64\n 21  WHEELSON           1010225 non-null  float64\n 22  TAXIIN             1010320 non-null  float64\n 23  CRSARRTIME         1191805 non-null  int64  \n 24  ARRTIME            1161439 non-null  float64\n 25  ARRDELAY           1160545 non-null  float64\n 26  CRSELAPSEDTIME     1191383 non-null  float64\n 27  ACTUALELAPSEDTIME  1160545 non-null  float64\n 28  CANCELLED          1191805 non-null  object \n 29  DIVERTED           1191805 non-null  object \n 30  DISTANCE           1191805 non-null  object \ndtypes: float64(10), int64(5), object(16)\nmemory usage: 281.9+ MB\n"
     ]
    }
   ],
   "source": [
    "df.info()"
   ]
  },
  {
   "source": [
    "## Alright, let's get down to it\n",
    "\n",
    "What's wrong with the diverted column"
   ],
   "cell_type": "markdown",
   "metadata": {}
  },
  {
   "cell_type": "code",
   "execution_count": 13,
   "metadata": {},
   "outputs": [],
   "source": [
    "#it doesn't exist!"
   ]
  },
  {
   "cell_type": "code",
   "execution_count": 21,
   "metadata": {},
   "outputs": [],
   "source": [
    "df['DIVERTED_CLEANED'] = df['DIVERTED'].apply(lambda x: True if x in ('T','True',1) else False)"
   ]
  },
  {
   "cell_type": "code",
   "execution_count": 22,
   "metadata": {},
   "outputs": [
    {
     "output_type": "execute_result",
     "data": {
      "text/plain": [
       "False    1189958\n",
       "True        1847\n",
       "Name: DIVERTED_CLEANED, dtype: int64"
      ]
     },
     "metadata": {},
     "execution_count": 22
    }
   ],
   "source": [
    "df['DIVERTED_CLEANED'].value_counts()"
   ]
  },
  {
   "source": [
    "Alright good stuff we've cleaned the diverted column! \n",
    "\n",
    "## Question 4 - what's wrong with the distance column. fix it! "
   ],
   "cell_type": "markdown",
   "metadata": {}
  },
  {
   "cell_type": "code",
   "execution_count": 23,
   "metadata": {},
   "outputs": [
    {
     "output_type": "execute_result",
     "data": {
      "text/plain": [
       "337 miles     10113\n",
       "370 miles      6851\n",
       "236 miles      5726\n",
       "328 miles      5721\n",
       "224 miles      5509\n",
       "              ...  \n",
       "1997 miles        1\n",
       "2045 miles        1\n",
       "18 miles          1\n",
       "2874 miles        1\n",
       "1800 miles        1\n",
       "Name: DISTANCE, Length: 1706, dtype: int64"
      ]
     },
     "metadata": {},
     "execution_count": 23
    }
   ],
   "source": [
    "df['DISTANCE'].value_counts()"
   ]
  },
  {
   "cell_type": "code",
   "execution_count": 35,
   "metadata": {},
   "outputs": [],
   "source": [
    "df['DISTANCE_CLEANED'] = df['DISTANCE'].apply(lambda x: x.split()[0])"
   ]
  },
  {
   "cell_type": "code",
   "execution_count": 40,
   "metadata": {},
   "outputs": [
    {
     "output_type": "execute_result",
     "data": {
      "text/plain": [
       "   TRANSACTIONID  FLIGHTDATE AIRLINECODE                     AIRLINENAME  \\\n",
       "0       54548800    20020101          WN      Southwest Airlines Co.: WN   \n",
       "1       55872300    20020101          CO  Continental Air Lines Inc.: CO   \n",
       "\n",
       "  TAILNUM  FLIGHTNUM ORIGINAIRPORTCODE  \\\n",
       "0  N103@@       1425               ABQ   \n",
       "1  N83872        150               ABQ   \n",
       "\n",
       "                                    ORIGAIRPORTNAME ORIGINCITYNAME  \\\n",
       "0  AlbuquerqueNM: Albuquerque International Sunport    Albuquerque   \n",
       "1  AlbuquerqueNM: Albuquerque International Sunport    Albuquerque   \n",
       "\n",
       "  ORIGINSTATE  ... CRSARRTIME ARRTIME ARRDELAY CRSELAPSEDTIME  \\\n",
       "0          NM  ...       1655  1652.0     -3.0           90.0   \n",
       "1          NM  ...       1426  1435.0      9.0          116.0   \n",
       "\n",
       "  ACTUALELAPSEDTIME CANCELLED  DIVERTED   DISTANCE  DIVERTED_CLEANED  \\\n",
       "0              87.0         F     False  580 miles             False   \n",
       "1             119.0     False         F  744 miles             False   \n",
       "\n",
       "   DISTANCE_CLEANED  \n",
       "0               580  \n",
       "1               744  \n",
       "\n",
       "[2 rows x 33 columns]"
      ],
      "text/html": "<div>\n<style scoped>\n    .dataframe tbody tr th:only-of-type {\n        vertical-align: middle;\n    }\n\n    .dataframe tbody tr th {\n        vertical-align: top;\n    }\n\n    .dataframe thead th {\n        text-align: right;\n    }\n</style>\n<table border=\"1\" class=\"dataframe\">\n  <thead>\n    <tr style=\"text-align: right;\">\n      <th></th>\n      <th>TRANSACTIONID</th>\n      <th>FLIGHTDATE</th>\n      <th>AIRLINECODE</th>\n      <th>AIRLINENAME</th>\n      <th>TAILNUM</th>\n      <th>FLIGHTNUM</th>\n      <th>ORIGINAIRPORTCODE</th>\n      <th>ORIGAIRPORTNAME</th>\n      <th>ORIGINCITYNAME</th>\n      <th>ORIGINSTATE</th>\n      <th>...</th>\n      <th>CRSARRTIME</th>\n      <th>ARRTIME</th>\n      <th>ARRDELAY</th>\n      <th>CRSELAPSEDTIME</th>\n      <th>ACTUALELAPSEDTIME</th>\n      <th>CANCELLED</th>\n      <th>DIVERTED</th>\n      <th>DISTANCE</th>\n      <th>DIVERTED_CLEANED</th>\n      <th>DISTANCE_CLEANED</th>\n    </tr>\n  </thead>\n  <tbody>\n    <tr>\n      <th>0</th>\n      <td>54548800</td>\n      <td>20020101</td>\n      <td>WN</td>\n      <td>Southwest Airlines Co.: WN</td>\n      <td>N103@@</td>\n      <td>1425</td>\n      <td>ABQ</td>\n      <td>AlbuquerqueNM: Albuquerque International Sunport</td>\n      <td>Albuquerque</td>\n      <td>NM</td>\n      <td>...</td>\n      <td>1655</td>\n      <td>1652.0</td>\n      <td>-3.0</td>\n      <td>90.0</td>\n      <td>87.0</td>\n      <td>F</td>\n      <td>False</td>\n      <td>580 miles</td>\n      <td>False</td>\n      <td>580</td>\n    </tr>\n    <tr>\n      <th>1</th>\n      <td>55872300</td>\n      <td>20020101</td>\n      <td>CO</td>\n      <td>Continental Air Lines Inc.: CO</td>\n      <td>N83872</td>\n      <td>150</td>\n      <td>ABQ</td>\n      <td>AlbuquerqueNM: Albuquerque International Sunport</td>\n      <td>Albuquerque</td>\n      <td>NM</td>\n      <td>...</td>\n      <td>1426</td>\n      <td>1435.0</td>\n      <td>9.0</td>\n      <td>116.0</td>\n      <td>119.0</td>\n      <td>False</td>\n      <td>F</td>\n      <td>744 miles</td>\n      <td>False</td>\n      <td>744</td>\n    </tr>\n  </tbody>\n</table>\n<p>2 rows × 33 columns</p>\n</div>"
     },
     "metadata": {},
     "execution_count": 40
    }
   ],
   "source": [
    "df.head(2)"
   ]
  },
  {
   "source": [
    "## Create a fnction that uses datetime to parse flight data to a python datatimeobject"
   ],
   "cell_type": "markdown",
   "metadata": {}
  },
  {
   "cell_type": "code",
   "execution_count": 61,
   "metadata": {},
   "outputs": [],
   "source": [
    "import datetime\n",
    "df['new_date_format'] = pd.to_datetime(df['FLIGHTDATE'].astype(str), format='%Y%m%d')"
   ]
  },
  {
   "cell_type": "code",
   "execution_count": 62,
   "metadata": {},
   "outputs": [
    {
     "output_type": "execute_result",
     "data": {
      "text/plain": [
       "   TRANSACTIONID  FLIGHTDATE AIRLINECODE                     AIRLINENAME  \\\n",
       "0       54548800    20020101          WN      Southwest Airlines Co.: WN   \n",
       "1       55872300    20020101          CO  Continental Air Lines Inc.: CO   \n",
       "2       54388800    20020101          WN      Southwest Airlines Co.: WN   \n",
       "3       54486500    20020101          WN      Southwest Airlines Co.: WN   \n",
       "4       55878700    20020103          CO  Continental Air Lines Inc.: CO   \n",
       "\n",
       "  TAILNUM  FLIGHTNUM ORIGINAIRPORTCODE  \\\n",
       "0  N103@@       1425               ABQ   \n",
       "1  N83872        150               ABQ   \n",
       "2  N334@@        249               ABQ   \n",
       "3  N699@@        902               ABQ   \n",
       "4  N58606        234               ABQ   \n",
       "\n",
       "                                    ORIGAIRPORTNAME ORIGINCITYNAME  \\\n",
       "0  AlbuquerqueNM: Albuquerque International Sunport    Albuquerque   \n",
       "1  AlbuquerqueNM: Albuquerque International Sunport    Albuquerque   \n",
       "2  AlbuquerqueNM: Albuquerque International Sunport    Albuquerque   \n",
       "3  AlbuquerqueNM: Albuquerque International Sunport    Albuquerque   \n",
       "4  AlbuquerqueNM: Albuquerque International Sunport    Albuquerque   \n",
       "\n",
       "  ORIGINSTATE  ... ARRTIME ARRDELAY CRSELAPSEDTIME ACTUALELAPSEDTIME  \\\n",
       "0          NM  ...  1652.0     -3.0           90.0              87.0   \n",
       "1          NM  ...  1435.0      9.0          116.0             119.0   \n",
       "2          NM  ...  1620.0     80.0          105.0             102.0   \n",
       "3          NM  ...  1948.0     -2.0           85.0              83.0   \n",
       "4          NM  ...  1747.0     -3.0          115.0             114.0   \n",
       "\n",
       "  CANCELLED DIVERTED   DISTANCE  DIVERTED_CLEANED  DISTANCE_CLEANED  \\\n",
       "0         F    False  580 miles             False               580   \n",
       "1     False        F  744 miles             False               744   \n",
       "2         F    False  718 miles             False               718   \n",
       "3         0        0  487 miles             False               487   \n",
       "4         F    False  744 miles             False               744   \n",
       "\n",
       "   new_date_format  \n",
       "0       2002-01-01  \n",
       "1       2002-01-01  \n",
       "2       2002-01-01  \n",
       "3       2002-01-01  \n",
       "4       2002-01-03  \n",
       "\n",
       "[5 rows x 34 columns]"
      ],
      "text/html": "<div>\n<style scoped>\n    .dataframe tbody tr th:only-of-type {\n        vertical-align: middle;\n    }\n\n    .dataframe tbody tr th {\n        vertical-align: top;\n    }\n\n    .dataframe thead th {\n        text-align: right;\n    }\n</style>\n<table border=\"1\" class=\"dataframe\">\n  <thead>\n    <tr style=\"text-align: right;\">\n      <th></th>\n      <th>TRANSACTIONID</th>\n      <th>FLIGHTDATE</th>\n      <th>AIRLINECODE</th>\n      <th>AIRLINENAME</th>\n      <th>TAILNUM</th>\n      <th>FLIGHTNUM</th>\n      <th>ORIGINAIRPORTCODE</th>\n      <th>ORIGAIRPORTNAME</th>\n      <th>ORIGINCITYNAME</th>\n      <th>ORIGINSTATE</th>\n      <th>...</th>\n      <th>ARRTIME</th>\n      <th>ARRDELAY</th>\n      <th>CRSELAPSEDTIME</th>\n      <th>ACTUALELAPSEDTIME</th>\n      <th>CANCELLED</th>\n      <th>DIVERTED</th>\n      <th>DISTANCE</th>\n      <th>DIVERTED_CLEANED</th>\n      <th>DISTANCE_CLEANED</th>\n      <th>new_date_format</th>\n    </tr>\n  </thead>\n  <tbody>\n    <tr>\n      <th>0</th>\n      <td>54548800</td>\n      <td>20020101</td>\n      <td>WN</td>\n      <td>Southwest Airlines Co.: WN</td>\n      <td>N103@@</td>\n      <td>1425</td>\n      <td>ABQ</td>\n      <td>AlbuquerqueNM: Albuquerque International Sunport</td>\n      <td>Albuquerque</td>\n      <td>NM</td>\n      <td>...</td>\n      <td>1652.0</td>\n      <td>-3.0</td>\n      <td>90.0</td>\n      <td>87.0</td>\n      <td>F</td>\n      <td>False</td>\n      <td>580 miles</td>\n      <td>False</td>\n      <td>580</td>\n      <td>2002-01-01</td>\n    </tr>\n    <tr>\n      <th>1</th>\n      <td>55872300</td>\n      <td>20020101</td>\n      <td>CO</td>\n      <td>Continental Air Lines Inc.: CO</td>\n      <td>N83872</td>\n      <td>150</td>\n      <td>ABQ</td>\n      <td>AlbuquerqueNM: Albuquerque International Sunport</td>\n      <td>Albuquerque</td>\n      <td>NM</td>\n      <td>...</td>\n      <td>1435.0</td>\n      <td>9.0</td>\n      <td>116.0</td>\n      <td>119.0</td>\n      <td>False</td>\n      <td>F</td>\n      <td>744 miles</td>\n      <td>False</td>\n      <td>744</td>\n      <td>2002-01-01</td>\n    </tr>\n    <tr>\n      <th>2</th>\n      <td>54388800</td>\n      <td>20020101</td>\n      <td>WN</td>\n      <td>Southwest Airlines Co.: WN</td>\n      <td>N334@@</td>\n      <td>249</td>\n      <td>ABQ</td>\n      <td>AlbuquerqueNM: Albuquerque International Sunport</td>\n      <td>Albuquerque</td>\n      <td>NM</td>\n      <td>...</td>\n      <td>1620.0</td>\n      <td>80.0</td>\n      <td>105.0</td>\n      <td>102.0</td>\n      <td>F</td>\n      <td>False</td>\n      <td>718 miles</td>\n      <td>False</td>\n      <td>718</td>\n      <td>2002-01-01</td>\n    </tr>\n    <tr>\n      <th>3</th>\n      <td>54486500</td>\n      <td>20020101</td>\n      <td>WN</td>\n      <td>Southwest Airlines Co.: WN</td>\n      <td>N699@@</td>\n      <td>902</td>\n      <td>ABQ</td>\n      <td>AlbuquerqueNM: Albuquerque International Sunport</td>\n      <td>Albuquerque</td>\n      <td>NM</td>\n      <td>...</td>\n      <td>1948.0</td>\n      <td>-2.0</td>\n      <td>85.0</td>\n      <td>83.0</td>\n      <td>0</td>\n      <td>0</td>\n      <td>487 miles</td>\n      <td>False</td>\n      <td>487</td>\n      <td>2002-01-01</td>\n    </tr>\n    <tr>\n      <th>4</th>\n      <td>55878700</td>\n      <td>20020103</td>\n      <td>CO</td>\n      <td>Continental Air Lines Inc.: CO</td>\n      <td>N58606</td>\n      <td>234</td>\n      <td>ABQ</td>\n      <td>AlbuquerqueNM: Albuquerque International Sunport</td>\n      <td>Albuquerque</td>\n      <td>NM</td>\n      <td>...</td>\n      <td>1747.0</td>\n      <td>-3.0</td>\n      <td>115.0</td>\n      <td>114.0</td>\n      <td>F</td>\n      <td>False</td>\n      <td>744 miles</td>\n      <td>False</td>\n      <td>744</td>\n      <td>2002-01-03</td>\n    </tr>\n  </tbody>\n</table>\n<p>5 rows × 34 columns</p>\n</div>"
     },
     "metadata": {},
     "execution_count": 62
    }
   ],
   "source": [
    "df.head()"
   ]
  },
  {
   "source": [
    "## use the duplicated() method to count how many exact duplicates there are in the dataset"
   ],
   "cell_type": "markdown",
   "metadata": {}
  },
  {
   "cell_type": "code",
   "execution_count": 77,
   "metadata": {},
   "outputs": [
    {
     "output_type": "execute_result",
     "data": {
      "text/plain": [
       "True     1191804\n",
       "False          1\n",
       "dtype: int64"
      ]
     },
     "metadata": {},
     "execution_count": 77
    }
   ],
   "source": [
    "df.duplicated(subset = 'DESTAIRPORTNAME', keep = False).value_counts() # There are 0!"
   ]
  },
  {
   "source": [
    "## Sort the dataframe"
   ],
   "cell_type": "markdown",
   "metadata": {}
  },
  {
   "cell_type": "code",
   "execution_count": 79,
   "metadata": {},
   "outputs": [
    {
     "output_type": "execute_result",
     "data": {
      "text/plain": [
       "        TRANSACTIONID  FLIGHTDATE AIRLINECODE                 AIRLINENAME  \\\n",
       "667522      109437100    20100106          MQ               Envoy Air: MQ   \n",
       "665677      118325600    20110517          MQ               Envoy Air: MQ   \n",
       "883406       70500900    20040520          MQ               Envoy Air: MQ   \n",
       "620945      132186500    20130914          MQ               Envoy Air: MQ   \n",
       "665808      118290300    20110513          MQ               Envoy Air: MQ   \n",
       "...               ...         ...         ...                         ...   \n",
       "732701      140628700    20150531          HA  Hawaiian Airlines Inc.: HA   \n",
       "733375       15193200    19940913          DL    Delta Air Lines Inc.: DL   \n",
       "166565      105699400    20090506          HA  Hawaiian Airlines Inc.: HA   \n",
       "733373       13032500    19940529          DL    Delta Air Lines Inc.: DL   \n",
       "733581        3405400    19920918          AA  American Airlines Inc.: AA   \n",
       "\n",
       "       TAILNUM  FLIGHTNUM ORIGINAIRPORTCODE  \\\n",
       "667522  N811MQ       2727               DFW   \n",
       "665677  N670MQ       3331               DFW   \n",
       "883406  N847MQ       3625               DFW   \n",
       "620945  N643MQ       3646               DFW   \n",
       "665808  N693MQ       2877               DFW   \n",
       "...        ...        ...               ...   \n",
       "732701  N493HA        265               OGG   \n",
       "733375     NaN       1852               OGG   \n",
       "166565  N486HA        114               HNL   \n",
       "733373     NaN       1852               OGG   \n",
       "733581     NaN          8               OGG   \n",
       "\n",
       "                                          ORIGAIRPORTNAME     ORIGINCITYNAME  \\\n",
       "667522  Dallas/Fort WorthTX: Dallas/Fort Worth Interna...  Dallas/Fort Worth   \n",
       "665677  Dallas/Fort WorthTX: Dallas/Fort Worth Interna...  Dallas/Fort Worth   \n",
       "883406  Dallas/Fort WorthTX: Dallas/Fort Worth Interna...  Dallas/Fort Worth   \n",
       "620945  Dallas/Fort WorthTX: Dallas/Fort Worth Interna...  Dallas/Fort Worth   \n",
       "665808  Dallas/Fort WorthTX: Dallas/Fort Worth Interna...  Dallas/Fort Worth   \n",
       "...                                                   ...                ...   \n",
       "732701                         KahuluiHI: Kahului Airport            Kahului   \n",
       "733375                         KahuluiHI: Kahului Airport            Kahului   \n",
       "166565                 HonoluluHI: Honolulu International           Honolulu   \n",
       "733373                         KahuluiHI: Kahului Airport            Kahului   \n",
       "733581                         KahuluiHI: Kahului Airport            Kahului   \n",
       "\n",
       "       ORIGINSTATE  ... ARRTIME ARRDELAY CRSELAPSEDTIME ACTUALELAPSEDTIME  \\\n",
       "667522          TX  ...  1215.0     15.0          145.0             141.0   \n",
       "665677          TX  ...  1158.0     -2.0          150.0             154.0   \n",
       "883406          TX  ...  1611.0     -1.0          149.0             151.0   \n",
       "620945          TX  ...  1837.0     22.0          150.0             160.0   \n",
       "665808          TX  ...  1514.0     29.0          150.0             183.0   \n",
       "...            ...  ...     ...      ...            ...               ...   \n",
       "732701          HI  ...  1935.0      2.0           35.0              36.0   \n",
       "733375          HI  ...  2019.0      0.0           39.0              39.0   \n",
       "166565          HI  ...   717.0     -1.0           36.0              38.0   \n",
       "733373          HI  ...  2020.0      0.0           40.0              38.0   \n",
       "733581          HI  ...  1555.0      8.0           42.0              43.0   \n",
       "\n",
       "       CANCELLED DIVERTED   DISTANCE  DIVERTED_CLEANED  DISTANCE_CLEANED  \\\n",
       "667522         0        0  999 miles             False               999   \n",
       "665677     False        F  999 miles             False               999   \n",
       "883406         0        0  999 miles             False               999   \n",
       "620945         0        0  999 miles             False               999   \n",
       "665808         0        0  999 miles             False               999   \n",
       "...          ...      ...        ...               ...               ...   \n",
       "732701     False        F  100 miles             False               100   \n",
       "733375     False        F  100 miles             False               100   \n",
       "166565     False    False  100 miles             False               100   \n",
       "733373     False        F  100 miles             False               100   \n",
       "733581         0        0  100 miles             False               100   \n",
       "\n",
       "        new_date_format  \n",
       "667522       2010-01-06  \n",
       "665677       2011-05-17  \n",
       "883406       2004-05-20  \n",
       "620945       2013-09-14  \n",
       "665808       2011-05-13  \n",
       "...                 ...  \n",
       "732701       2015-05-31  \n",
       "733375       1994-09-13  \n",
       "166565       2009-05-06  \n",
       "733373       1994-05-29  \n",
       "733581       1992-09-18  \n",
       "\n",
       "[1191805 rows x 34 columns]"
      ],
      "text/html": "<div>\n<style scoped>\n    .dataframe tbody tr th:only-of-type {\n        vertical-align: middle;\n    }\n\n    .dataframe tbody tr th {\n        vertical-align: top;\n    }\n\n    .dataframe thead th {\n        text-align: right;\n    }\n</style>\n<table border=\"1\" class=\"dataframe\">\n  <thead>\n    <tr style=\"text-align: right;\">\n      <th></th>\n      <th>TRANSACTIONID</th>\n      <th>FLIGHTDATE</th>\n      <th>AIRLINECODE</th>\n      <th>AIRLINENAME</th>\n      <th>TAILNUM</th>\n      <th>FLIGHTNUM</th>\n      <th>ORIGINAIRPORTCODE</th>\n      <th>ORIGAIRPORTNAME</th>\n      <th>ORIGINCITYNAME</th>\n      <th>ORIGINSTATE</th>\n      <th>...</th>\n      <th>ARRTIME</th>\n      <th>ARRDELAY</th>\n      <th>CRSELAPSEDTIME</th>\n      <th>ACTUALELAPSEDTIME</th>\n      <th>CANCELLED</th>\n      <th>DIVERTED</th>\n      <th>DISTANCE</th>\n      <th>DIVERTED_CLEANED</th>\n      <th>DISTANCE_CLEANED</th>\n      <th>new_date_format</th>\n    </tr>\n  </thead>\n  <tbody>\n    <tr>\n      <th>667522</th>\n      <td>109437100</td>\n      <td>20100106</td>\n      <td>MQ</td>\n      <td>Envoy Air: MQ</td>\n      <td>N811MQ</td>\n      <td>2727</td>\n      <td>DFW</td>\n      <td>Dallas/Fort WorthTX: Dallas/Fort Worth Interna...</td>\n      <td>Dallas/Fort Worth</td>\n      <td>TX</td>\n      <td>...</td>\n      <td>1215.0</td>\n      <td>15.0</td>\n      <td>145.0</td>\n      <td>141.0</td>\n      <td>0</td>\n      <td>0</td>\n      <td>999 miles</td>\n      <td>False</td>\n      <td>999</td>\n      <td>2010-01-06</td>\n    </tr>\n    <tr>\n      <th>665677</th>\n      <td>118325600</td>\n      <td>20110517</td>\n      <td>MQ</td>\n      <td>Envoy Air: MQ</td>\n      <td>N670MQ</td>\n      <td>3331</td>\n      <td>DFW</td>\n      <td>Dallas/Fort WorthTX: Dallas/Fort Worth Interna...</td>\n      <td>Dallas/Fort Worth</td>\n      <td>TX</td>\n      <td>...</td>\n      <td>1158.0</td>\n      <td>-2.0</td>\n      <td>150.0</td>\n      <td>154.0</td>\n      <td>False</td>\n      <td>F</td>\n      <td>999 miles</td>\n      <td>False</td>\n      <td>999</td>\n      <td>2011-05-17</td>\n    </tr>\n    <tr>\n      <th>883406</th>\n      <td>70500900</td>\n      <td>20040520</td>\n      <td>MQ</td>\n      <td>Envoy Air: MQ</td>\n      <td>N847MQ</td>\n      <td>3625</td>\n      <td>DFW</td>\n      <td>Dallas/Fort WorthTX: Dallas/Fort Worth Interna...</td>\n      <td>Dallas/Fort Worth</td>\n      <td>TX</td>\n      <td>...</td>\n      <td>1611.0</td>\n      <td>-1.0</td>\n      <td>149.0</td>\n      <td>151.0</td>\n      <td>0</td>\n      <td>0</td>\n      <td>999 miles</td>\n      <td>False</td>\n      <td>999</td>\n      <td>2004-05-20</td>\n    </tr>\n    <tr>\n      <th>620945</th>\n      <td>132186500</td>\n      <td>20130914</td>\n      <td>MQ</td>\n      <td>Envoy Air: MQ</td>\n      <td>N643MQ</td>\n      <td>3646</td>\n      <td>DFW</td>\n      <td>Dallas/Fort WorthTX: Dallas/Fort Worth Interna...</td>\n      <td>Dallas/Fort Worth</td>\n      <td>TX</td>\n      <td>...</td>\n      <td>1837.0</td>\n      <td>22.0</td>\n      <td>150.0</td>\n      <td>160.0</td>\n      <td>0</td>\n      <td>0</td>\n      <td>999 miles</td>\n      <td>False</td>\n      <td>999</td>\n      <td>2013-09-14</td>\n    </tr>\n    <tr>\n      <th>665808</th>\n      <td>118290300</td>\n      <td>20110513</td>\n      <td>MQ</td>\n      <td>Envoy Air: MQ</td>\n      <td>N693MQ</td>\n      <td>2877</td>\n      <td>DFW</td>\n      <td>Dallas/Fort WorthTX: Dallas/Fort Worth Interna...</td>\n      <td>Dallas/Fort Worth</td>\n      <td>TX</td>\n      <td>...</td>\n      <td>1514.0</td>\n      <td>29.0</td>\n      <td>150.0</td>\n      <td>183.0</td>\n      <td>0</td>\n      <td>0</td>\n      <td>999 miles</td>\n      <td>False</td>\n      <td>999</td>\n      <td>2011-05-13</td>\n    </tr>\n    <tr>\n      <th>...</th>\n      <td>...</td>\n      <td>...</td>\n      <td>...</td>\n      <td>...</td>\n      <td>...</td>\n      <td>...</td>\n      <td>...</td>\n      <td>...</td>\n      <td>...</td>\n      <td>...</td>\n      <td>...</td>\n      <td>...</td>\n      <td>...</td>\n      <td>...</td>\n      <td>...</td>\n      <td>...</td>\n      <td>...</td>\n      <td>...</td>\n      <td>...</td>\n      <td>...</td>\n      <td>...</td>\n    </tr>\n    <tr>\n      <th>732701</th>\n      <td>140628700</td>\n      <td>20150531</td>\n      <td>HA</td>\n      <td>Hawaiian Airlines Inc.: HA</td>\n      <td>N493HA</td>\n      <td>265</td>\n      <td>OGG</td>\n      <td>KahuluiHI: Kahului Airport</td>\n      <td>Kahului</td>\n      <td>HI</td>\n      <td>...</td>\n      <td>1935.0</td>\n      <td>2.0</td>\n      <td>35.0</td>\n      <td>36.0</td>\n      <td>False</td>\n      <td>F</td>\n      <td>100 miles</td>\n      <td>False</td>\n      <td>100</td>\n      <td>2015-05-31</td>\n    </tr>\n    <tr>\n      <th>733375</th>\n      <td>15193200</td>\n      <td>19940913</td>\n      <td>DL</td>\n      <td>Delta Air Lines Inc.: DL</td>\n      <td>NaN</td>\n      <td>1852</td>\n      <td>OGG</td>\n      <td>KahuluiHI: Kahului Airport</td>\n      <td>Kahului</td>\n      <td>HI</td>\n      <td>...</td>\n      <td>2019.0</td>\n      <td>0.0</td>\n      <td>39.0</td>\n      <td>39.0</td>\n      <td>False</td>\n      <td>F</td>\n      <td>100 miles</td>\n      <td>False</td>\n      <td>100</td>\n      <td>1994-09-13</td>\n    </tr>\n    <tr>\n      <th>166565</th>\n      <td>105699400</td>\n      <td>20090506</td>\n      <td>HA</td>\n      <td>Hawaiian Airlines Inc.: HA</td>\n      <td>N486HA</td>\n      <td>114</td>\n      <td>HNL</td>\n      <td>HonoluluHI: Honolulu International</td>\n      <td>Honolulu</td>\n      <td>HI</td>\n      <td>...</td>\n      <td>717.0</td>\n      <td>-1.0</td>\n      <td>36.0</td>\n      <td>38.0</td>\n      <td>False</td>\n      <td>False</td>\n      <td>100 miles</td>\n      <td>False</td>\n      <td>100</td>\n      <td>2009-05-06</td>\n    </tr>\n    <tr>\n      <th>733373</th>\n      <td>13032500</td>\n      <td>19940529</td>\n      <td>DL</td>\n      <td>Delta Air Lines Inc.: DL</td>\n      <td>NaN</td>\n      <td>1852</td>\n      <td>OGG</td>\n      <td>KahuluiHI: Kahului Airport</td>\n      <td>Kahului</td>\n      <td>HI</td>\n      <td>...</td>\n      <td>2020.0</td>\n      <td>0.0</td>\n      <td>40.0</td>\n      <td>38.0</td>\n      <td>False</td>\n      <td>F</td>\n      <td>100 miles</td>\n      <td>False</td>\n      <td>100</td>\n      <td>1994-05-29</td>\n    </tr>\n    <tr>\n      <th>733581</th>\n      <td>3405400</td>\n      <td>19920918</td>\n      <td>AA</td>\n      <td>American Airlines Inc.: AA</td>\n      <td>NaN</td>\n      <td>8</td>\n      <td>OGG</td>\n      <td>KahuluiHI: Kahului Airport</td>\n      <td>Kahului</td>\n      <td>HI</td>\n      <td>...</td>\n      <td>1555.0</td>\n      <td>8.0</td>\n      <td>42.0</td>\n      <td>43.0</td>\n      <td>0</td>\n      <td>0</td>\n      <td>100 miles</td>\n      <td>False</td>\n      <td>100</td>\n      <td>1992-09-18</td>\n    </tr>\n  </tbody>\n</table>\n<p>1191805 rows × 34 columns</p>\n</div>"
     },
     "metadata": {},
     "execution_count": 79
    }
   ],
   "source": [
    "df.sort_values(by = 'DISTANCE_CLEANED', ascending = False)"
   ]
  },
  {
   "cell_type": "code",
   "execution_count": null,
   "metadata": {},
   "outputs": [],
   "source": []
  }
 ]
}